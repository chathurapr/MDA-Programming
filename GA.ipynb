{
  "nbformat": 4,
  "nbformat_minor": 0,
  "metadata": {
    "colab": {
      "name": "GA.ipynb",
      "provenance": [],
      "authorship_tag": "ABX9TyM1r5DEuhmF3rOVfBBPZMiQ",
      "include_colab_link": true
    },
    "kernelspec": {
      "name": "python3",
      "display_name": "Python 3"
    },
    "language_info": {
      "name": "python"
    }
  },
  "cells": [
    {
      "cell_type": "markdown",
      "metadata": {
        "id": "view-in-github",
        "colab_type": "text"
      },
      "source": [
        "<a href=\"https://colab.research.google.com/github/chathurapr/MDA-Programming/blob/master/GA.ipynb\" target=\"_parent\"><img src=\"https://colab.research.google.com/assets/colab-badge.svg\" alt=\"Open In Colab\"/></a>"
      ]
    },
    {
      "cell_type": "markdown",
      "metadata": {
        "id": "cmAgBmFeoT7e"
      },
      "source": [
        "Create a binary string. The population size is set to 4. We need to find the maximum value of x2 given that x = any number between 1 and 2n-1"
      ]
    },
    {
      "cell_type": "code",
      "metadata": {
        "colab": {
          "base_uri": "https://localhost:8080/"
        },
        "id": "L1-G7qgZoRVb",
        "outputId": "e9f6382b-7b02-413c-e56d-f29bef59b022"
      },
      "source": [
        "import random\n",
        "n = 20     #Number of dimensions\n",
        "p = 15     #pupulation size\n",
        "population = random.sample(range(1, 2**(n-12)), p)\n",
        "\n",
        "print(population)\n",
        "for i in range(0, len(population)):\n",
        "  temp = bin(population[i])\n",
        "  population[i] = temp[2:len(temp)].zfill(n)\n",
        "print(population)\n"
      ],
      "execution_count": 277,
      "outputs": [
        {
          "output_type": "stream",
          "text": [
            "[116, 138, 94, 68, 109, 243, 160, 170, 201, 23, 187, 117, 106, 241, 136]\n",
            "['00000000000001110100', '00000000000010001010', '00000000000001011110', '00000000000001000100', '00000000000001101101', '00000000000011110011', '00000000000010100000', '00000000000010101010', '00000000000011001001', '00000000000000010111', '00000000000010111011', '00000000000001110101', '00000000000001101010', '00000000000011110001', '00000000000010001000']\n"
          ],
          "name": "stdout"
        }
      ]
    },
    {
      "cell_type": "markdown",
      "metadata": {
        "id": "27eTYU57Hyyh"
      },
      "source": [
        "Now let's write a function to compute the fitness matrix of the population."
      ]
    },
    {
      "cell_type": "code",
      "metadata": {
        "id": "RaDDMUYJH_iD"
      },
      "source": [
        "def CompFitness(p):\n",
        "  fitMatrix = []\n",
        "  fitTotal = 0\n",
        "  for i in p:\n",
        "    dicVal = []\n",
        "    fVal = int(i,2)**2\n",
        "    fitTotal += fVal\n",
        "    dicVal.append(i)\n",
        "    dicVal.append(fVal)\n",
        "    fitMatrix.append(dicVal)\n",
        "\n",
        "  for i in fitMatrix:\n",
        "    i.append(i[1]/fitTotal)\n",
        "\n",
        "  return fitMatrix\n",
        "\n",
        "#fitMatrix = CompFitness(['11100', '00011', '10001', '00111'])"
      ],
      "execution_count": 11,
      "outputs": []
    },
    {
      "cell_type": "markdown",
      "metadata": {
        "id": "7ywpgvV8LFwk"
      },
      "source": [
        "Now let's write a function to get two parents selected. We use roulette wheel method here."
      ]
    },
    {
      "cell_type": "code",
      "metadata": {
        "colab": {
          "base_uri": "https://localhost:8080/"
        },
        "id": "7p5Us0W5LNz5",
        "outputId": "4cc02b35-38eb-4028-f348-8c97744bcb67"
      },
      "source": [
        "def SelectParents(fm):\n",
        "  parents = []\n",
        "  \n",
        "  while len(parents) != 2:\n",
        "    num = random.random()\n",
        "    margin = 0\n",
        "    for i in range(0,len(fitMatrix)):\n",
        "      margin += fitMatrix[i][2]\n",
        "      if num <= margin:\n",
        "        if len(parents) == 0:\n",
        "          parents.append(fitMatrix[i][0])\n",
        "        elif parents[0] != fitMatrix[i][0]:\n",
        "          parents.append(fitMatrix[i][0])\n",
        "        break\n",
        "  return parents\n",
        "\n",
        "\n",
        "\n"
      ],
      "execution_count": 17,
      "outputs": [
        {
          "output_type": "stream",
          "text": [
            "['10001', '11100']\n"
          ],
          "name": "stdout"
        }
      ]
    },
    {
      "cell_type": "markdown",
      "metadata": {
        "id": "n0WA4zVGSQ9D"
      },
      "source": [
        "Now we will write a function to crossover"
      ]
    },
    {
      "cell_type": "code",
      "metadata": {
        "id": "OkW6PhL9SWMP"
      },
      "source": [
        "def Crossover(p):\n",
        "  children = []\n",
        "  cp = n//2   \n",
        "  part1 = [p[0][0:cp],p[0][cp:len(p[0])]]\n",
        "  part2 = [p[1][0:cp],p[1][cp:len(p[1])]]\n",
        "  \n",
        "  children.append(part1[0]+part2[1])\n",
        "  children.append(part2[0]+part1[1])\n",
        "\n",
        "  return children\n",
        "\n"
      ],
      "execution_count": 53,
      "outputs": []
    },
    {
      "cell_type": "markdown",
      "metadata": {
        "id": "F6v6Cq6qW67v"
      },
      "source": [
        "Now we will write the mutation function"
      ]
    },
    {
      "cell_type": "code",
      "metadata": {
        "id": "B4kOLJA-W-kA"
      },
      "source": [
        "def Mutate(c):\n",
        "  tempC = []\n",
        "  for i in c:\n",
        "    dec = random.random()\n",
        "    if dec < 0.7:  #We mutate only with 40% chance\n",
        "      mp = random.randrange(0,len(i))\n",
        "      iLst = list(i)\n",
        "      if iLst[mp] == '1':\n",
        "        iLst[mp] = '0'\n",
        "      else:\n",
        "        iLst[mp] = '1'\n",
        "      x = \"\".join(iLst)\n",
        "      tempC.append(x)\n",
        "    else:\n",
        "      tempC.append(i)\n",
        "    c = tempC\n",
        "  return c\n",
        "#c = ['10001', '11100']\n",
        "#print(Mutate(c))"
      ],
      "execution_count": 261,
      "outputs": []
    },
    {
      "cell_type": "markdown",
      "metadata": {
        "id": "E6Qq_GD5RUmh"
      },
      "source": [
        "Now let's create the new generation."
      ]
    },
    {
      "cell_type": "code",
      "metadata": {
        "colab": {
          "base_uri": "https://localhost:8080/"
        },
        "id": "tFGb4SQLRc-_",
        "outputId": "c5b01304-baa1-41c3-8cb5-c7f30ae0e49f"
      },
      "source": [
        "myPopulation = population\n",
        "newGenSize = 40 #Size of the new generation\n",
        "\n",
        "I = 50          #Number of iterations\n",
        "best = []\n",
        "def myFunc(e):\n",
        "  return e[1]\n",
        "\n",
        "for x in range(0,I):\n",
        "  newGen = []\n",
        "  fitMatrix = CompFitness(myPopulation) #Make the fitness matrix of the initial population\n",
        "\n",
        "  #Copy the parents into newGen list\n",
        "  for i in fitMatrix:\n",
        "    newGen.append(i[0:2])\n",
        "\n",
        "  #Fill the rest with crossover\n",
        "  while len(newGen) < newGenSize:\n",
        "    #Select parents\n",
        "    parents = SelectParents(fitMatrix)\n",
        "    #Crossover and then mutate\n",
        "    children = Mutate(Crossover(parents))\n",
        "\n",
        "    #Compute the fitness of children and add to the newGen list\n",
        "    for i in children:\n",
        "      newMember = []\n",
        "      newMember.append(i)\n",
        "      newMember.append(int(i,2)**2)\n",
        "      newGen.append(newMember)\n",
        "\n",
        "  #Sort the newGen list according to fitness\n",
        "  newGen.sort(reverse=True, key=myFunc)\n",
        "  best.append([x+1, newGen[0][0], newGen[0][1]])\n",
        "  #Make the new population by taking the best set\n",
        "\n",
        "  newPopulation = []\n",
        "  i = 0\n",
        "  while len(newPopulation) < p:\n",
        "    found = False\n",
        "    for y in newPopulation:\n",
        "      if newGen[i][0] == y:\n",
        "        found = True\n",
        "        break\n",
        "    if found == False:\n",
        "      newPopulation.append(newGen[i][0])\n",
        "    i += 1\n",
        "\n",
        "  myPopulation = newPopulation\n",
        "\n",
        "print(newGen)\n",
        "print(myPopulation)\n",
        "print(best[len(best)-1])"
      ],
      "execution_count": 279,
      "outputs": [
        {
          "output_type": "stream",
          "text": [
            "[['11111111111111111111', 1099509530625], ['11111111111111111110', 1099507433476], ['11111111111111111110', 1099507433476], ['11111111111111111101', 1099505336329], ['11111111111111111101', 1099505336329], ['11111111111111111101', 1099505336329], ['11111111111111111100', 1099503239184], ['11111111111111111100', 1099503239184], ['11111111111111111011', 1099501142041], ['11111111111111111010', 1099499044900], ['11111111111111111010', 1099499044900], ['11111111111111111001', 1099496947761], ['11111111111111111001', 1099496947761], ['11111111111111111001', 1099496947761], ['11111111111111111000', 1099494850624], ['11111111111111110111', 1099492753489], ['11111111111111110111', 1099492753489], ['11111111111111110110', 1099490656356], ['11111111111111110110', 1099490656356], ['11111111111111110101', 1099488559225], ['11111111111111110101', 1099488559225], ['11111111111111110100', 1099486462096], ['11111111111111110100', 1099486462096], ['11111111111111110011', 1099484364969], ['11111111111111110010', 1099482267844], ['11111111111111110001', 1099480170721], ['11111111111111110001', 1099480170721], ['11111111111111110001', 1099480170721], ['11111111111111101111', 1099475976481], ['11111111111111011111', 1099442422849], ['11111111111111010011', 1099417257961], ['11111111111101111011', 1099232724249], ['11111111110111110111', 1098419283025], ['11111111011111110100', 1095195738256], ['11111111011111110011', 1095193645225], ['11111101111111111110', 1082394705924], ['11111011111111111000', 1065403809856], ['11111011111111111000', 1065403809856], ['11110111111111111101', 1031859798025], ['11101111111111111100', 966359777296], ['01111111111111111111', 274876858369]]\n",
            "['11111111111111111111', '11111111111111111110', '11111111111111111101', '11111111111111111100', '11111111111111111011', '11111111111111111010', '11111111111111111001', '11111111111111111000', '11111111111111110111', '11111111111111110110', '11111111111111110101', '11111111111111110100', '11111111111111110011', '11111111111111110010', '11111111111111110001']\n",
            "[50, '11111111111111111111', 1099509530625]\n"
          ],
          "name": "stdout"
        }
      ]
    },
    {
      "cell_type": "code",
      "metadata": {
        "colab": {
          "base_uri": "https://localhost:8080/",
          "height": 293
        },
        "id": "d7q1G554ZjZs",
        "outputId": "95a79970-29cf-4f83-88c4-7c1b7d159852"
      },
      "source": [
        "import pandas as pd\n",
        "import matplotlib.pyplot as plt\n",
        "df = pd.DataFrame(best)\n",
        "x = df[0]\n",
        "y = df[2]\n",
        "\n",
        "plt.plot(x, y, 'o', color='red')"
      ],
      "execution_count": 280,
      "outputs": [
        {
          "output_type": "execute_result",
          "data": {
            "text/plain": [
              "[<matplotlib.lines.Line2D at 0x7fb601670a90>]"
            ]
          },
          "metadata": {
            "tags": []
          },
          "execution_count": 280
        },
        {
          "output_type": "display_data",
          "data": {
            "image/png": "[encoded data removed]",
            "text/plain": [
              "<Figure size 432x288 with 1 Axes>"
            ]
          },
          "metadata": {
            "tags": [],
            "needs_background": "light"
          }
        }
      ]
    }
  ]
}