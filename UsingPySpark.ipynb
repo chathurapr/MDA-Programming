{
  "nbformat": 4,
  "nbformat_minor": 0,
  "metadata": {
    "colab": {
      "name": "UsingPySpark.ipynb",
      "provenance": [],
      "authorship_tag": "ABX9TyO3qmjxQynTcQ87FfGNjaec",
      "include_colab_link": true
    },
    "kernelspec": {
      "name": "python3",
      "display_name": "Python 3"
    },
    "language_info": {
      "name": "python"
    }
  },
  "cells": [
    {
      "cell_type": "markdown",
      "metadata": {
        "id": "view-in-github",
        "colab_type": "text"
      },
      "source": [
        "<a href=\"https://colab.research.google.com/github/chathurapr/MDA-Programming/blob/master/UsingPySpark.ipynb\" target=\"_parent\"><img src=\"https://colab.research.google.com/assets/colab-badge.svg\" alt=\"Open In Colab\"/></a>"
      ]
    },
    {
      "cell_type": "markdown",
      "metadata": {
        "id": "44zC7QgYLF_s"
      },
      "source": [
        "### 1. The following code mounts the google drive to colabs environment\n",
        "\n",
        "#### Reference: https://www.analyticsvidhya.com/blog/2020/11/a-must-read-guide-on-how-to-work-with-pyspark-on-google-colab-for-data-scientists/"
      ]
    },
    {
      "cell_type": "code",
      "metadata": {
        "id": "Pz6zOJ9qnSdk",
        "colab": {
          "base_uri": "https://localhost:8080/"
        },
        "outputId": "aa47d4b1-b48c-4c52-d98b-08cb64b33592"
      },
      "source": [
        "from google.colab import drive\n",
        "drive.mount('/content/drive')"
      ],
      "execution_count": 1,
      "outputs": [
        {
          "output_type": "stream",
          "text": [
            "Mounted at /content/drive\n"
          ],
          "name": "stdout"
        }
      ]
    },
    {
      "cell_type": "markdown",
      "metadata": {
        "id": "flZK_1eRPuPB"
      },
      "source": [
        "### 2. As our objective is to run Spark, we first have to install java"
      ]
    },
    {
      "cell_type": "code",
      "metadata": {
        "id": "PatOCLwWPnmq"
      },
      "source": [
        "!apt-get install openjdk-8-jdk-headless -qq > /dev/null"
      ],
      "execution_count": 2,
      "outputs": []
    },
    {
      "cell_type": "markdown",
      "metadata": {
        "id": "AdJmfxQ1QGc1"
      },
      "source": [
        "### 3. Let's now install Apache Spark - the latest version"
      ]
    },
    {
      "cell_type": "code",
      "metadata": {
        "id": "eUvyVsltQcsY"
      },
      "source": [
        "!wget -q https://downloads.apache.org/spark/spark-3.1.2/spark-3.1.2-bin-hadoop3.2.tgz\n"
      ],
      "execution_count": 34,
      "outputs": []
    },
    {
      "cell_type": "markdown",
      "metadata": {
        "id": "WGvBj3eVb2Qf"
      },
      "source": [
        "### 4. We will unzip the compressed file using the following command"
      ]
    },
    {
      "cell_type": "code",
      "metadata": {
        "id": "9-rg9wZERIQG"
      },
      "source": [
        "!tar xf spark-3.1.2-bin-hadoop3.2.tgz"
      ],
      "execution_count": 36,
      "outputs": []
    },
    {
      "cell_type": "markdown",
      "metadata": {
        "id": "7fK6C9_rQkPb"
      },
      "source": [
        "### 5. Let's install PySpark now. The Python API to Spark"
      ]
    },
    {
      "cell_type": "code",
      "metadata": {
        "id": "DzZpjpyFQ6en"
      },
      "source": [
        "!pip install -q findspark"
      ],
      "execution_count": 37,
      "outputs": []
    },
    {
      "cell_type": "markdown",
      "metadata": {
        "id": "3Bx5xwk9cRc_"
      },
      "source": [
        "### 6. Let's run PySpark from Colabs"
      ]
    },
    {
      "cell_type": "code",
      "metadata": {
        "id": "cmdchlSscVop"
      },
      "source": [
        "import os\n",
        "os.environ[\"JAVA_HOME\"] = \"/usr/lib/jvm/java-8-openjdk-amd64\"\n",
        "os.environ[\"SPARK_HOME\"] = \"/content/spark-3.1.2-bin-hadoop3.2\""
      ],
      "execution_count": 38,
      "outputs": []
    },
    {
      "cell_type": "markdown",
      "metadata": {
        "id": "tsilJRHvdaoW"
      },
      "source": [
        "### 7. We need to locate Spark in the system. For that, we import findspark and use the findspark.init() method"
      ]
    },
    {
      "cell_type": "code",
      "metadata": {
        "id": "c_Lp_gHAddWr"
      },
      "source": [
        "import findspark\n",
        "findspark.init()"
      ],
      "execution_count": 39,
      "outputs": []
    },
    {
      "cell_type": "code",
      "metadata": {
        "colab": {
          "base_uri": "https://localhost:8080/",
          "height": 35
        },
        "id": "h8iqlVAVdjM7",
        "outputId": "244605f3-951e-4e8a-b79d-8a97ad186139"
      },
      "source": [
        "findspark.find()"
      ],
      "execution_count": 40,
      "outputs": [
        {
          "output_type": "execute_result",
          "data": {
            "application/vnd.google.colaboratory.intrinsic+json": {
              "type": "string"
            },
            "text/plain": [
              "'/content/spark-3.1.2-bin-hadoop3.2'"
            ]
          },
          "metadata": {},
          "execution_count": 40
        }
      ]
    },
    {
      "cell_type": "markdown",
      "metadata": {
        "id": "ibfejH8-fshN"
      },
      "source": [
        "### 8. We will create a Spark session - The starting point"
      ]
    },
    {
      "cell_type": "code",
      "metadata": {
        "id": "FjDIT05cfxu5"
      },
      "source": [
        "from pyspark.sql import SparkSession\n",
        "\n",
        "spark = SparkSession.builder\\\n",
        "        .master(\"local\")\\\n",
        "        .appName(\"Colab\")\\\n",
        "        .config('spark.ui.port', '4050')\\\n",
        "        .getOrCreate()"
      ],
      "execution_count": 47,
      "outputs": []
    },
    {
      "cell_type": "markdown",
      "metadata": {
        "id": "j6c3ASx4mIWk"
      },
      "source": [
        "### 9. See the spark session details"
      ]
    },
    {
      "cell_type": "code",
      "metadata": {
        "colab": {
          "base_uri": "https://localhost:8080/",
          "height": 219
        },
        "id": "5X7CDtKxhHWP",
        "outputId": "78d895c1-3b7f-4459-bf55-fe7a60529436"
      },
      "source": [
        "spark"
      ],
      "execution_count": 48,
      "outputs": [
        {
          "output_type": "execute_result",
          "data": {
            "text/html": [
              "\n",
              "            <div>\n",
              "                <p><b>SparkSession - in-memory</b></p>\n",
              "                \n",
              "        <div>\n",
              "            <p><b>SparkContext</b></p>\n",
              "\n",
              "            <p><a href=\"http://3711c6539d12:4050\">Spark UI</a></p>\n",
              "\n",
              "            <dl>\n",
              "              <dt>Version</dt>\n",
              "                <dd><code>v3.1.2</code></dd>\n",
              "              <dt>Master</dt>\n",
              "                <dd><code>local</code></dd>\n",
              "              <dt>AppName</dt>\n",
              "                <dd><code>Colab</code></dd>\n",
              "            </dl>\n",
              "        </div>\n",
              "        \n",
              "            </div>\n",
              "        "
            ],
            "text/plain": [
              "<pyspark.sql.session.SparkSession at 0x7f127f286090>"
            ]
          },
          "metadata": {},
          "execution_count": 48
        }
      ]
    },
    {
      "cell_type": "markdown",
      "metadata": {
        "id": "07icYKTUmD5r"
      },
      "source": [
        "### 10. Read the data from the file"
      ]
    },
    {
      "cell_type": "code",
      "metadata": {
        "colab": {
          "base_uri": "https://localhost:8080/"
        },
        "id": "gPxJon2hkQb6",
        "outputId": "02d680c4-0ff9-4f09-a0c9-327cb8e96c0e"
      },
      "source": [
        "df = spark.read.csv(\"/content/drive/MyDrive/Big Data Analytics/1/1.csv\", header=True, inferSchema=True)\n"
      ],
      "execution_count": 52,
      "outputs": [
        {
          "output_type": "execute_result",
          "data": {
            "text/plain": [
              "[Row(ID=611287, AS_AT_DATE='2021-05-31', REGION='RM2', SOL_ID=17, SOL_DESC='DEHIWELA', NOW_CLS='1A', GL_SUB_HEAD_CODE=30000, SCHM_CODE='CA501', SCHM_DESC='CA PERSONAL SUPREME', SCHM_TYPE='ODA', CUST_ID='200190397', ACID='001750014123', FORACID='NULL', OPERATING_ACCOUNT='NULL', SETTLEMENT_ACCOUNT='NULL', ACCT_NAME='X.X XXXXXXXX', ACCT_OPN_DATE='2003-03-12', ACCT_MGR_USER_ID='017MGR', ACCT_MGR_NAME='DEHIWALA MANAGER', ACCT_MGR_EMAIL='XXXXXXXXXX', INTR='28.0000', ACCT_CRNCY_CODE='LKR', ACCT_CUR_RATE=1.0, SANCT_LIM=0.0, SANCT_LIM_LKR=0.0, DISB_AMT='NULL', CLR_BAL_AMT=286232.73, CLR_BAL_AMT_LKR=286232.73, OD_LKR='NULL', TRAN_DATE_BAL='NULL', TRAN_DATE_BAL_LKR='NULL', LAST_ANY_TRAN_DATE='2021-05-30', CAP_OVER_DUE=0.0, CAP_OVER_DUE_LKR=0.0, INT_OVER_DUE=0.0, INT_OVER_DUE_LKR=0.0, INT_ACCRUED='0.0026', INT_ACCRUED_LKR=0.0026, IIS='NULL', IIS_LKR='NULL', SP_PROVISION='NULL', SP_PROVISION_LKR='NULL', FLOW_AMOUNT=0.0, FLOW_AMOUNT_LKR=0.0, MIN_ARRDAY='NULL', ARRDAYS='0.0000', ARRMONTHS='0.0000', LAST_REMARK_DATE='NULL', LAST_REMARK_BY_TYPE='NULL', IMPAIRMENT_CLASSIFICATION='NULL', ARREARSDAYS='NULL', CUS_MOBILE='NULL', CUST_EMAIL='XXXXXXXXXX', ACCOUNT_RATE='NULL', SUB_CLASSIFICATION_SYSTEM='1A', CUST_RATE='NULL', DMS_SOL_ID=17, LOCATION_CODE='NULL', DMS_ACCT_MGR_USER_ID='017MGR', DMS_NIC='XXXXXXXXXX', EXP_DATE='2099-12-31', PRODUCT_SUB_TYPE='NULL', DWH_MOBILE_NO='XXXXXXXXXX', NPA_DATE='2021-08-29', DAYS_TO_NPA='89', SYSTEM_CLASSIFICATION_DATE='2015-11-04', TOD_LIMIT=0.0, SECTOR='NULL', SUB_SECTOR='NULL', PURPOSE_OF_ADVANCE_CODE='NULL', SECURITY_DESCRIPTION='NULL', MODE_OF_ADVN='NULL', REP_PERD_MTHS='NULL', REP_PERD_DAYS='NULL', EI_PERD_END_DATE='NULL', DUE_DATE='NULL', ARREARS_DAYS='NULL', DAYS_TO_DEMAND_ARREARS='0', VEHICLE_TYPE='XXXX', VEHICLE_MODEL='XXXX', VEHICLE_CHASSIS_NUM='XXXX', VEHICLE_ENGINE_NUM='XXXX', VEHICLE_REGN_NUM='XXXX', NUM_ADV_INST='NULL', ACCT_STATUS='A', LR_FREQ_TYPE=' ', BSC_TEAM_LEADER='NULL', PD_XFER_DATE='NULL', LATE_CHARGES=0, MORATORIUM_GIVEN='NO', MORATORIUM_PERIOD='NA'),\n",
              " Row(ID=611288, AS_AT_DATE='2021-05-31', REGION='RM9', SOL_ID=7, SOL_DESC='KANDY SUPER', NOW_CLS='1B', GL_SUB_HEAD_CODE=30000, SCHM_CODE='CA500', SCHM_DESC='CURRENT ACCOUNT-PERSONAL', SCHM_TYPE='ODA', CUST_ID='300314303', ACID='000750092039', FORACID='NULL', OPERATING_ACCOUNT='NULL', SETTLEMENT_ACCOUNT='NULL', ACCT_NAME='X.X XXXXXXXX', ACCT_OPN_DATE='2003-03-12', ACCT_MGR_USER_ID='007MGR', ACCT_MGR_NAME='KANDY MANAGER', ACCT_MGR_EMAIL='XXXXXXXXXX', INTR='28.0000', ACCT_CRNCY_CODE='LKR', ACCT_CUR_RATE=1.0, SANCT_LIM=0.0, SANCT_LIM_LKR=0.0, DISB_AMT='NULL', CLR_BAL_AMT=-850.0, CLR_BAL_AMT_LKR=-850.0, OD_LKR='-850.0000', TRAN_DATE_BAL='NULL', TRAN_DATE_BAL_LKR='NULL', LAST_ANY_TRAN_DATE='2021-05-31', CAP_OVER_DUE=0.0, CAP_OVER_DUE_LKR=0.0, INT_OVER_DUE=0.0, INT_OVER_DUE_LKR=0.0, INT_ACCRUED='-0.0002', INT_ACCRUED_LKR=-0.0002, IIS='0.0000', IIS_LKR='0.0000', SP_PROVISION='0.0000', SP_PROVISION_LKR='0.0000', FLOW_AMOUNT=0.0, FLOW_AMOUNT_LKR=0.0, MIN_ARRDAY='NULL', ARRDAYS='33.0000', ARRMONTHS='1.0000', LAST_REMARK_DATE='NULL', LAST_REMARK_BY_TYPE='NULL', IMPAIRMENT_CLASSIFICATION='NULL', ARREARSDAYS='2021-04-28', CUS_MOBILE='NULL', CUST_EMAIL='XXXXXXXXXX', ACCOUNT_RATE='NULL', SUB_CLASSIFICATION_SYSTEM='1B', CUST_RATE='NULL', DMS_SOL_ID=7, LOCATION_CODE='NULL', DMS_ACCT_MGR_USER_ID='007MGR', DMS_NIC='XXXXXXXXXX', EXP_DATE='2099-12-31', PRODUCT_SUB_TYPE='NULL', DWH_MOBILE_NO='XXXXXXXXXX', NPA_DATE='2021-07-27', DAYS_TO_NPA='56', SYSTEM_CLASSIFICATION_DATE='2021-04-28', TOD_LIMIT=0.0, SECTOR='NULL', SUB_SECTOR='NULL', PURPOSE_OF_ADVANCE_CODE='NULL', SECURITY_DESCRIPTION='NULL', MODE_OF_ADVN='NULL', REP_PERD_MTHS='NULL', REP_PERD_DAYS='NULL', EI_PERD_END_DATE='NULL', DUE_DATE='NULL', ARREARS_DAYS='NULL', DAYS_TO_DEMAND_ARREARS='33', VEHICLE_TYPE='XXXX', VEHICLE_MODEL='XXXX', VEHICLE_CHASSIS_NUM='XXXX', VEHICLE_ENGINE_NUM='XXXX', VEHICLE_REGN_NUM='XXXX', NUM_ADV_INST='NULL', ACCT_STATUS='A', LR_FREQ_TYPE=' ', BSC_TEAM_LEADER='NULL', PD_XFER_DATE='NULL', LATE_CHARGES=0, MORATORIUM_GIVEN='NO', MORATORIUM_PERIOD='NA'),\n",
              " Row(ID=611289, AS_AT_DATE='2021-05-31', REGION='RM2', SOL_ID=31, SOL_DESC='MORATUWA', NOW_CLS='1A', GL_SUB_HEAD_CODE=30000, SCHM_CODE='CA501', SCHM_DESC='CA PERSONAL SUPREME', SCHM_TYPE='ODA', CUST_ID='200370886', ACID='003150015633', FORACID='NULL', OPERATING_ACCOUNT='NULL', SETTLEMENT_ACCOUNT='NULL', ACCT_NAME='X.X XXXXXXXX', ACCT_OPN_DATE='2003-03-13', ACCT_MGR_USER_ID='031MGR', ACCT_MGR_NAME='MORATUWA MANAGER', ACCT_MGR_EMAIL='XXXXXXXXXX', INTR='28.0000', ACCT_CRNCY_CODE='LKR', ACCT_CUR_RATE=1.0, SANCT_LIM=0.0, SANCT_LIM_LKR=0.0, DISB_AMT='NULL', CLR_BAL_AMT=14549.65, CLR_BAL_AMT_LKR=14549.65, OD_LKR='NULL', TRAN_DATE_BAL='NULL', TRAN_DATE_BAL_LKR='NULL', LAST_ANY_TRAN_DATE='2021-05-11', CAP_OVER_DUE=0.0, CAP_OVER_DUE_LKR=0.0, INT_OVER_DUE=0.0, INT_OVER_DUE_LKR=0.0, INT_ACCRUED='-0.0049', INT_ACCRUED_LKR=-0.0049, IIS='0.0000', IIS_LKR='0.0000', SP_PROVISION='NULL', SP_PROVISION_LKR='NULL', FLOW_AMOUNT=0.0, FLOW_AMOUNT_LKR=0.0, MIN_ARRDAY='NULL', ARRDAYS='0.0000', ARRMONTHS='0.0000', LAST_REMARK_DATE='NULL', LAST_REMARK_BY_TYPE='NULL', IMPAIRMENT_CLASSIFICATION='NULL', ARREARSDAYS='NULL', CUS_MOBILE='NULL', CUST_EMAIL='XXXXXXXXXX', ACCOUNT_RATE='NULL', SUB_CLASSIFICATION_SYSTEM='1A', CUST_RATE='NULL', DMS_SOL_ID=31, LOCATION_CODE='NULL', DMS_ACCT_MGR_USER_ID='031MGR', DMS_NIC='XXXXXXXXXX', EXP_DATE='NULL', PRODUCT_SUB_TYPE='NULL', DWH_MOBILE_NO='XXXXXXXXXX', NPA_DATE='2021-08-29', DAYS_TO_NPA='89', SYSTEM_CLASSIFICATION_DATE='2021-03-01', TOD_LIMIT=0.0, SECTOR='NULL', SUB_SECTOR='NULL', PURPOSE_OF_ADVANCE_CODE='NULL', SECURITY_DESCRIPTION='NULL', MODE_OF_ADVN='NULL', REP_PERD_MTHS='NULL', REP_PERD_DAYS='NULL', EI_PERD_END_DATE='NULL', DUE_DATE='NULL', ARREARS_DAYS='NULL', DAYS_TO_DEMAND_ARREARS='0', VEHICLE_TYPE='XXXX', VEHICLE_MODEL='XXXX', VEHICLE_CHASSIS_NUM='XXXX', VEHICLE_ENGINE_NUM='XXXX', VEHICLE_REGN_NUM='XXXX', NUM_ADV_INST='NULL', ACCT_STATUS='A', LR_FREQ_TYPE=' ', BSC_TEAM_LEADER='NULL', PD_XFER_DATE='NULL', LATE_CHARGES=0, MORATORIUM_GIVEN='NO', MORATORIUM_PERIOD='NA'),\n",
              " Row(ID=611290, AS_AT_DATE='2021-05-31', REGION='RM5', SOL_ID=39, SOL_DESC='MALABE', NOW_CLS='1A', GL_SUB_HEAD_CODE=30000, SCHM_CODE='CA501', SCHM_DESC='CA PERSONAL SUPREME', SCHM_TYPE='ODA', CUST_ID='300312919', ACID='003950005792', FORACID='NULL', OPERATING_ACCOUNT='NULL', SETTLEMENT_ACCOUNT='NULL', ACCT_NAME='X.X XXXXXXXX', ACCT_OPN_DATE='2003-03-10', ACCT_MGR_USER_ID='039MGR', ACCT_MGR_NAME='MALABE MANAGER', ACCT_MGR_EMAIL='XXXXXXXXXX', INTR='28.0000', ACCT_CRNCY_CODE='LKR', ACCT_CUR_RATE=1.0, SANCT_LIM=0.0, SANCT_LIM_LKR=0.0, DISB_AMT='NULL', CLR_BAL_AMT=218081.59, CLR_BAL_AMT_LKR=218081.59, OD_LKR='NULL', TRAN_DATE_BAL='NULL', TRAN_DATE_BAL_LKR='NULL', LAST_ANY_TRAN_DATE='2021-05-29', CAP_OVER_DUE=0.0, CAP_OVER_DUE_LKR=0.0, INT_OVER_DUE=0.0, INT_OVER_DUE_LKR=0.0, INT_ACCRUED='-0.0041', INT_ACCRUED_LKR=-0.0041, IIS='NULL', IIS_LKR='NULL', SP_PROVISION='NULL', SP_PROVISION_LKR='NULL', FLOW_AMOUNT=0.0, FLOW_AMOUNT_LKR=0.0, MIN_ARRDAY='NULL', ARRDAYS='0.0000', ARRMONTHS='0.0000', LAST_REMARK_DATE='NULL', LAST_REMARK_BY_TYPE='NULL', IMPAIRMENT_CLASSIFICATION='NULL', ARREARSDAYS='NULL', CUS_MOBILE='NULL', CUST_EMAIL='XXXXXXXXXX', ACCOUNT_RATE='NULL', SUB_CLASSIFICATION_SYSTEM='1A', CUST_RATE='NULL', DMS_SOL_ID=39, LOCATION_CODE='NULL', DMS_ACCT_MGR_USER_ID='039MGR', DMS_NIC='XXXXXXXXXX', EXP_DATE='2099-12-31', PRODUCT_SUB_TYPE='NULL', DWH_MOBILE_NO='XXXXXXXXXX', NPA_DATE='2021-08-29', DAYS_TO_NPA='89', SYSTEM_CLASSIFICATION_DATE='2017-08-17', TOD_LIMIT=0.0, SECTOR='NULL', SUB_SECTOR='NULL', PURPOSE_OF_ADVANCE_CODE='NULL', SECURITY_DESCRIPTION='NULL', MODE_OF_ADVN='NULL', REP_PERD_MTHS='NULL', REP_PERD_DAYS='NULL', EI_PERD_END_DATE='NULL', DUE_DATE='NULL', ARREARS_DAYS='NULL', DAYS_TO_DEMAND_ARREARS='0', VEHICLE_TYPE='XXXX', VEHICLE_MODEL='XXXX', VEHICLE_CHASSIS_NUM='XXXX', VEHICLE_ENGINE_NUM='XXXX', VEHICLE_REGN_NUM='XXXX', NUM_ADV_INST='NULL', ACCT_STATUS='A', LR_FREQ_TYPE=' ', BSC_TEAM_LEADER='NULL', PD_XFER_DATE='NULL', LATE_CHARGES=0, MORATORIUM_GIVEN='NO', MORATORIUM_PERIOD='NA'),\n",
              " Row(ID=611291, AS_AT_DATE='2021-05-31', REGION='RM6', SOL_ID=37, SOL_DESC='KOTAHENA', NOW_CLS='1A', GL_SUB_HEAD_CODE=10200, SCHM_CODE='CA500', SCHM_DESC='CURRENT ACCOUNT-PERSONAL', SCHM_TYPE='ODA', CUST_ID='300220483', ACID='003750007340', FORACID='NULL', OPERATING_ACCOUNT='NULL', SETTLEMENT_ACCOUNT='NULL', ACCT_NAME='X.X XXXXXXXX', ACCT_OPN_DATE='2003-03-10', ACCT_MGR_USER_ID='037MGR', ACCT_MGR_NAME='KOTAHENA MANAGER', ACCT_MGR_EMAIL='XXXXXXXXXX', INTR='28.0000', ACCT_CRNCY_CODE='LKR', ACCT_CUR_RATE=1.0, SANCT_LIM=0.0, SANCT_LIM_LKR=0.0, DISB_AMT='NULL', CLR_BAL_AMT=0.0, CLR_BAL_AMT_LKR=0.0, OD_LKR='NULL', TRAN_DATE_BAL='NULL', TRAN_DATE_BAL_LKR='NULL', LAST_ANY_TRAN_DATE='2018-08-08', CAP_OVER_DUE=0.0, CAP_OVER_DUE_LKR=0.0, INT_OVER_DUE=0.0, INT_OVER_DUE_LKR=0.0, INT_ACCRUED='-0.0001', INT_ACCRUED_LKR=-0.0001, IIS='0.0000', IIS_LKR='0.0000', SP_PROVISION='NULL', SP_PROVISION_LKR='NULL', FLOW_AMOUNT=0.0, FLOW_AMOUNT_LKR=0.0, MIN_ARRDAY='NULL', ARRDAYS='0.0000', ARRMONTHS='0.0000', LAST_REMARK_DATE='NULL', LAST_REMARK_BY_TYPE='NULL', IMPAIRMENT_CLASSIFICATION='NULL', ARREARSDAYS='NULL', CUS_MOBILE='NULL', CUST_EMAIL='XXXXXXXXXX', ACCOUNT_RATE='NULL', SUB_CLASSIFICATION_SYSTEM='1A', CUST_RATE='NULL', DMS_SOL_ID=37, LOCATION_CODE='NULL', DMS_ACCT_MGR_USER_ID='037MGR', DMS_NIC='XXXXXXXXXX', EXP_DATE='2099-12-31', PRODUCT_SUB_TYPE='NULL', DWH_MOBILE_NO='XXXXXXXXXX', NPA_DATE='2021-08-29', DAYS_TO_NPA='89', SYSTEM_CLASSIFICATION_DATE='2006-07-08', TOD_LIMIT=0.0, SECTOR='NULL', SUB_SECTOR='NULL', PURPOSE_OF_ADVANCE_CODE='NULL', SECURITY_DESCRIPTION='NULL', MODE_OF_ADVN='CASUAL', REP_PERD_MTHS='NULL', REP_PERD_DAYS='NULL', EI_PERD_END_DATE='NULL', DUE_DATE='NULL', ARREARS_DAYS='NULL', DAYS_TO_DEMAND_ARREARS='0', VEHICLE_TYPE='XXXX', VEHICLE_MODEL='XXXX', VEHICLE_CHASSIS_NUM='XXXX', VEHICLE_ENGINE_NUM='XXXX', VEHICLE_REGN_NUM='XXXX', NUM_ADV_INST='NULL', ACCT_STATUS='D', LR_FREQ_TYPE=' ', BSC_TEAM_LEADER='NULL', PD_XFER_DATE='NULL', LATE_CHARGES=0, MORATORIUM_GIVEN='NO', MORATORIUM_PERIOD='NA')]"
            ]
          },
          "metadata": {},
          "execution_count": 52
        }
      ]
    },
    {
      "cell_type": "markdown",
      "metadata": {
        "id": "45JI3DxEl873"
      },
      "source": [
        "### 11. Let's see the data in the dataframe"
      ]
    },
    {
      "cell_type": "code",
      "metadata": {
        "colab": {
          "base_uri": "https://localhost:8080/"
        },
        "id": "tCuNv9-rk20i",
        "outputId": "70c45dc7-92ec-4d34-8b1c-20e3263a39fb"
      },
      "source": [
        "df.show(5)"
      ],
      "execution_count": 56,
      "outputs": [
        {
          "output_type": "stream",
          "text": [
            "+------+----------+------+------+-----------+-------+----------------+---------+--------------------+---------+---------+------------+-------+-----------------+------------------+------------+-------------+----------------+----------------+--------------+-------+---------------+-------------+---------+-------------+--------+-----------+---------------+---------+-------------+-----------------+------------------+------------+----------------+------------+----------------+-----------+---------------+------+-------+------------+----------------+-----------+---------------+----------+-------+---------+----------------+-------------------+-------------------------+-----------+----------+----------+------------+-------------------------+---------+----------+-------------+--------------------+----------+----------+----------------+-------------+----------+-----------+--------------------------+---------+------+----------+-----------------------+--------------------+------------+-------------+-------------+----------------+--------+------------+----------------------+------------+-------------+-------------------+------------------+----------------+------------+-----------+------------+---------------+------------+------------+----------------+-----------------+\n",
            "|    ID|AS_AT_DATE|REGION|SOL_ID|   SOL_DESC|NOW_CLS|GL_SUB_HEAD_CODE|SCHM_CODE|           SCHM_DESC|SCHM_TYPE|  CUST_ID|        ACID|FORACID|OPERATING_ACCOUNT|SETTLEMENT_ACCOUNT|   ACCT_NAME|ACCT_OPN_DATE|ACCT_MGR_USER_ID|   ACCT_MGR_NAME|ACCT_MGR_EMAIL|   INTR|ACCT_CRNCY_CODE|ACCT_CUR_RATE|SANCT_LIM|SANCT_LIM_LKR|DISB_AMT|CLR_BAL_AMT|CLR_BAL_AMT_LKR|   OD_LKR|TRAN_DATE_BAL|TRAN_DATE_BAL_LKR|LAST_ANY_TRAN_DATE|CAP_OVER_DUE|CAP_OVER_DUE_LKR|INT_OVER_DUE|INT_OVER_DUE_LKR|INT_ACCRUED|INT_ACCRUED_LKR|   IIS|IIS_LKR|SP_PROVISION|SP_PROVISION_LKR|FLOW_AMOUNT|FLOW_AMOUNT_LKR|MIN_ARRDAY|ARRDAYS|ARRMONTHS|LAST_REMARK_DATE|LAST_REMARK_BY_TYPE|IMPAIRMENT_CLASSIFICATION|ARREARSDAYS|CUS_MOBILE|CUST_EMAIL|ACCOUNT_RATE|SUB_CLASSIFICATION_SYSTEM|CUST_RATE|DMS_SOL_ID|LOCATION_CODE|DMS_ACCT_MGR_USER_ID|   DMS_NIC|  EXP_DATE|PRODUCT_SUB_TYPE|DWH_MOBILE_NO|  NPA_DATE|DAYS_TO_NPA|SYSTEM_CLASSIFICATION_DATE|TOD_LIMIT|SECTOR|SUB_SECTOR|PURPOSE_OF_ADVANCE_CODE|SECURITY_DESCRIPTION|MODE_OF_ADVN|REP_PERD_MTHS|REP_PERD_DAYS|EI_PERD_END_DATE|DUE_DATE|ARREARS_DAYS|DAYS_TO_DEMAND_ARREARS|VEHICLE_TYPE|VEHICLE_MODEL|VEHICLE_CHASSIS_NUM|VEHICLE_ENGINE_NUM|VEHICLE_REGN_NUM|NUM_ADV_INST|ACCT_STATUS|LR_FREQ_TYPE|BSC_TEAM_LEADER|PD_XFER_DATE|LATE_CHARGES|MORATORIUM_GIVEN|MORATORIUM_PERIOD|\n",
            "+------+----------+------+------+-----------+-------+----------------+---------+--------------------+---------+---------+------------+-------+-----------------+------------------+------------+-------------+----------------+----------------+--------------+-------+---------------+-------------+---------+-------------+--------+-----------+---------------+---------+-------------+-----------------+------------------+------------+----------------+------------+----------------+-----------+---------------+------+-------+------------+----------------+-----------+---------------+----------+-------+---------+----------------+-------------------+-------------------------+-----------+----------+----------+------------+-------------------------+---------+----------+-------------+--------------------+----------+----------+----------------+-------------+----------+-----------+--------------------------+---------+------+----------+-----------------------+--------------------+------------+-------------+-------------+----------------+--------+------------+----------------------+------------+-------------+-------------------+------------------+----------------+------------+-----------+------------+---------------+------------+------------+----------------+-----------------+\n",
            "|611287|2021-05-31|   RM2|    17|   DEHIWELA|     1A|           30000|    CA501| CA PERSONAL SUPREME|      ODA|200190397|001750014123|   NULL|             NULL|              NULL|X.X XXXXXXXX|   2003-03-12|          017MGR|DEHIWALA MANAGER|    XXXXXXXXXX|28.0000|            LKR|          1.0|      0.0|          0.0|    NULL|  286232.73|      286232.73|     NULL|         NULL|             NULL|        2021-05-30|         0.0|             0.0|         0.0|             0.0|     0.0026|         0.0026|  NULL|   NULL|        NULL|            NULL|        0.0|            0.0|      NULL| 0.0000|   0.0000|            NULL|               NULL|                     NULL|       NULL|      NULL|XXXXXXXXXX|        NULL|                       1A|     NULL|        17|         NULL|              017MGR|XXXXXXXXXX|2099-12-31|            NULL|   XXXXXXXXXX|2021-08-29|         89|                2015-11-04|      0.0|  NULL|      NULL|                   NULL|                NULL|        NULL|         NULL|         NULL|            NULL|    NULL|        NULL|                     0|        XXXX|         XXXX|               XXXX|              XXXX|            XXXX|        NULL|          A|            |           NULL|        NULL|           0|              NO|               NA|\n",
            "|611288|2021-05-31|   RM9|     7|KANDY SUPER|     1B|           30000|    CA500|CURRENT ACCOUNT-P...|      ODA|300314303|000750092039|   NULL|             NULL|              NULL|X.X XXXXXXXX|   2003-03-12|          007MGR|   KANDY MANAGER|    XXXXXXXXXX|28.0000|            LKR|          1.0|      0.0|          0.0|    NULL|     -850.0|         -850.0|-850.0000|         NULL|             NULL|        2021-05-31|         0.0|             0.0|         0.0|             0.0|    -0.0002|        -2.0E-4|0.0000| 0.0000|      0.0000|          0.0000|        0.0|            0.0|      NULL|33.0000|   1.0000|            NULL|               NULL|                     NULL| 2021-04-28|      NULL|XXXXXXXXXX|        NULL|                       1B|     NULL|         7|         NULL|              007MGR|XXXXXXXXXX|2099-12-31|            NULL|   XXXXXXXXXX|2021-07-27|         56|                2021-04-28|      0.0|  NULL|      NULL|                   NULL|                NULL|        NULL|         NULL|         NULL|            NULL|    NULL|        NULL|                    33|        XXXX|         XXXX|               XXXX|              XXXX|            XXXX|        NULL|          A|            |           NULL|        NULL|           0|              NO|               NA|\n",
            "|611289|2021-05-31|   RM2|    31|   MORATUWA|     1A|           30000|    CA501| CA PERSONAL SUPREME|      ODA|200370886|003150015633|   NULL|             NULL|              NULL|X.X XXXXXXXX|   2003-03-13|          031MGR|MORATUWA MANAGER|    XXXXXXXXXX|28.0000|            LKR|          1.0|      0.0|          0.0|    NULL|   14549.65|       14549.65|     NULL|         NULL|             NULL|        2021-05-11|         0.0|             0.0|         0.0|             0.0|    -0.0049|        -0.0049|0.0000| 0.0000|        NULL|            NULL|        0.0|            0.0|      NULL| 0.0000|   0.0000|            NULL|               NULL|                     NULL|       NULL|      NULL|XXXXXXXXXX|        NULL|                       1A|     NULL|        31|         NULL|              031MGR|XXXXXXXXXX|      NULL|            NULL|   XXXXXXXXXX|2021-08-29|         89|                2021-03-01|      0.0|  NULL|      NULL|                   NULL|                NULL|        NULL|         NULL|         NULL|            NULL|    NULL|        NULL|                     0|        XXXX|         XXXX|               XXXX|              XXXX|            XXXX|        NULL|          A|            |           NULL|        NULL|           0|              NO|               NA|\n",
            "|611290|2021-05-31|   RM5|    39|     MALABE|     1A|           30000|    CA501| CA PERSONAL SUPREME|      ODA|300312919|003950005792|   NULL|             NULL|              NULL|X.X XXXXXXXX|   2003-03-10|          039MGR|  MALABE MANAGER|    XXXXXXXXXX|28.0000|            LKR|          1.0|      0.0|          0.0|    NULL|  218081.59|      218081.59|     NULL|         NULL|             NULL|        2021-05-29|         0.0|             0.0|         0.0|             0.0|    -0.0041|        -0.0041|  NULL|   NULL|        NULL|            NULL|        0.0|            0.0|      NULL| 0.0000|   0.0000|            NULL|               NULL|                     NULL|       NULL|      NULL|XXXXXXXXXX|        NULL|                       1A|     NULL|        39|         NULL|              039MGR|XXXXXXXXXX|2099-12-31|            NULL|   XXXXXXXXXX|2021-08-29|         89|                2017-08-17|      0.0|  NULL|      NULL|                   NULL|                NULL|        NULL|         NULL|         NULL|            NULL|    NULL|        NULL|                     0|        XXXX|         XXXX|               XXXX|              XXXX|            XXXX|        NULL|          A|            |           NULL|        NULL|           0|              NO|               NA|\n",
            "|611291|2021-05-31|   RM6|    37|   KOTAHENA|     1A|           10200|    CA500|CURRENT ACCOUNT-P...|      ODA|300220483|003750007340|   NULL|             NULL|              NULL|X.X XXXXXXXX|   2003-03-10|          037MGR|KOTAHENA MANAGER|    XXXXXXXXXX|28.0000|            LKR|          1.0|      0.0|          0.0|    NULL|        0.0|            0.0|     NULL|         NULL|             NULL|        2018-08-08|         0.0|             0.0|         0.0|             0.0|    -0.0001|        -1.0E-4|0.0000| 0.0000|        NULL|            NULL|        0.0|            0.0|      NULL| 0.0000|   0.0000|            NULL|               NULL|                     NULL|       NULL|      NULL|XXXXXXXXXX|        NULL|                       1A|     NULL|        37|         NULL|              037MGR|XXXXXXXXXX|2099-12-31|            NULL|   XXXXXXXXXX|2021-08-29|         89|                2006-07-08|      0.0|  NULL|      NULL|                   NULL|                NULL|      CASUAL|         NULL|         NULL|            NULL|    NULL|        NULL|                     0|        XXXX|         XXXX|               XXXX|              XXXX|            XXXX|        NULL|          D|            |           NULL|        NULL|           0|              NO|               NA|\n",
            "+------+----------+------+------+-----------+-------+----------------+---------+--------------------+---------+---------+------------+-------+-----------------+------------------+------------+-------------+----------------+----------------+--------------+-------+---------------+-------------+---------+-------------+--------+-----------+---------------+---------+-------------+-----------------+------------------+------------+----------------+------------+----------------+-----------+---------------+------+-------+------------+----------------+-----------+---------------+----------+-------+---------+----------------+-------------------+-------------------------+-----------+----------+----------+------------+-------------------------+---------+----------+-------------+--------------------+----------+----------+----------------+-------------+----------+-----------+--------------------------+---------+------+----------+-----------------------+--------------------+------------+-------------+-------------+----------------+--------+------------+----------------------+------------+-------------+-------------------+------------------+----------------+------------+-----------+------------+---------------+------------+------------+----------------+-----------------+\n",
            "only showing top 5 rows\n",
            "\n"
          ],
          "name": "stdout"
        }
      ]
    }
  ]
}